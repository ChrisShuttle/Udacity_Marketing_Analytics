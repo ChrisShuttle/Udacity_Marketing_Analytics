{
 "cells": [
  {
   "cell_type": "markdown",
   "metadata": {},
   "source": [
    "                                 Christine Shuttleworth"
   ]
  },
  {
   "cell_type": "markdown",
   "metadata": {},
   "source": [
    "## LinkedIn Top Skills for 2016\n",
    "(Source: https://public.tableau.com/profile/matt.chambers#!/vizhome/LinkedInTopSkills2016-MakeoverMonday/LinkedInTopSkills2016-MakeoverMonday)"
   ]
  },
  {
   "cell_type": "markdown",
   "metadata": {},
   "source": [
    "1. The top skills globally for 2016 on LinkedIn were:\n",
    "\n",
    "![Global Ranking](GlobalRankingSkills2016.png)\n",
    "\n",
    "Out of all skills on LinkedIn in 2016, computing and alalytical and data skills were the highest ranked skills. Cloud Distributed Computing is leading at first place, followed by Statistical Analysis and Data Mining. All the skills are fuelled by the digitalisation of our world. Interestingly for my own carreer, Statistical Analysis and Data Mining, Data Presentation and SEO, SEM Marketing are all in the top ten skills globally.\n",
    "\n",
    "I found this information by clicking on the Global Row in the table to highlight the rankings for each of the skills.\n"
   ]
  },
  {
   "cell_type": "markdown",
   "metadata": {},
   "source": [
    "2. Looking at one particular country - Germany\n",
    "\n",
    "![Skills Ranking in Germany](SkillsRankingGermany2016.png)\n",
    "\n",
    "I live in Austria and Germany is the closed country to Austria on this list. In Germany, place one and two are the same as the global ranking. Ranked at number 3, there is SEO/SEM Marketing, which is very interesting as this is part of the skills that I am gaining at the moment. \n",
    "\n",
    "This information was highlighted by clicking on the row header `Germany`, to highlight the rankings in Germany."
   ]
  },
  {
   "cell_type": "markdown",
   "metadata": {},
   "source": [
    "3. Statistical Analysis & Data Mining ranking in all the main countries\n",
    "\n",
    "![Ranking of Statistical Analysis](RankingOfStatisticalAnalysis2.png)"
   ]
  },
  {
   "cell_type": "markdown",
   "metadata": {},
   "source": [
    "Statistical Analysis and Data mining is the highest to second highest ranked skill globally and in all western T1 countries, Brazil, South Africa and UAE as well as globally. Interestingly China and Singapore do not rank this skill as high (3rd and 4th rank). In India it is only at rank 5.\n",
    "\n",
    "I found this information by clicking on the column header `Statistical Analysis % Data Mining`."
   ]
  }
 ],
 "metadata": {
  "kernelspec": {
   "display_name": "Python 3",
   "language": "python",
   "name": "python3"
  },
  "language_info": {
   "codemirror_mode": {
    "name": "ipython",
    "version": 3
   },
   "file_extension": ".py",
   "mimetype": "text/x-python",
   "name": "python",
   "nbconvert_exporter": "python",
   "pygments_lexer": "ipython3",
   "version": "3.7.6"
  }
 },
 "nbformat": 4,
 "nbformat_minor": 4
}
